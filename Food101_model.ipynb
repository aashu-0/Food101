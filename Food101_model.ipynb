{
  "metadata": {
    "kernelspec": {
      "language": "python",
      "display_name": "Python 3",
      "name": "python3"
    },
    "language_info": {
      "name": "python",
      "version": "3.10.12",
      "mimetype": "text/x-python",
      "codemirror_mode": {
        "name": "ipython",
        "version": 3
      },
      "pygments_lexer": "ipython3",
      "nbconvert_exporter": "python",
      "file_extension": ".py"
    },
    "kaggle": {
      "accelerator": "nvidiaTeslaT4",
      "dataSources": [
        {
          "sourceId": 11959,
          "sourceType": "datasetVersion",
          "datasetId": 8544
        }
      ],
      "dockerImageVersionId": 30840,
      "isInternetEnabled": true,
      "language": "python",
      "sourceType": "notebook",
      "isGpuEnabled": true
    },
    "colab": {
      "provenance": [],
      "include_colab_link": true
    }
  },
  "nbformat_minor": 0,
  "nbformat": 4,
  "cells": [
    {
      "cell_type": "markdown",
      "metadata": {
        "id": "view-in-github",
        "colab_type": "text"
      },
      "source": [
        "<a href=\"https://colab.research.google.com/github/aashu-0/Food101/blob/main/Food101_model.ipynb\" target=\"_parent\"><img src=\"https://colab.research.google.com/assets/colab-badge.svg\" alt=\"Open In Colab\"/></a>"
      ]
    },
    {
      "cell_type": "markdown",
      "source": [
        "## EffnetB2 model: Food101 Dataset"
      ],
      "metadata": {
        "id": "d8HQPvqRcamT"
      }
    },
    {
      "cell_type": "markdown",
      "source": [
        "### Setup"
      ],
      "metadata": {
        "id": "t_DaRlpxcamY"
      }
    },
    {
      "cell_type": "code",
      "source": [
        "import torch\n",
        "import torchvision\n",
        "import matplotlib.pyplot as plt\n",
        "\n",
        "from torch import nn\n",
        "from torchvision import transforms\n",
        "\n",
        "\n",
        "# installing torchmetrics and torchinfo\n",
        "try:\n",
        "  from torchmetrics import Accuracy\n",
        "  from torchinfo import summary\n",
        "except:\n",
        "  print(f'[INFO] Installing torchmetrics and torchinfo')\n",
        "  !pip install torchmetrics\n",
        "  !pip install torchinfo"
      ],
      "metadata": {
        "trusted": true,
        "execution": {
          "iopub.status.busy": "2025-01-30T17:01:30.828898Z",
          "iopub.execute_input": "2025-01-30T17:01:30.829187Z",
          "iopub.status.idle": "2025-01-30T17:01:39.949749Z",
          "shell.execute_reply.started": "2025-01-30T17:01:30.829139Z",
          "shell.execute_reply": "2025-01-30T17:01:39.948791Z"
        },
        "id": "v2d1ThCDcamZ"
      },
      "outputs": [],
      "execution_count": null
    },
    {
      "cell_type": "code",
      "source": [
        "# custom functions import from github\n",
        "\n",
        "try:\n",
        "  from modualr_pytorch import data_setup, engine\n",
        "except:\n",
        "  print(f'[INFO] installing required scripts from github')\n",
        "  !git clone https://github.com/aashu-0/learn-pytorch\n",
        "  !mv learn-pytorch/modualr_pytorch .\n",
        "  !rm -rf learn-pytorch\n",
        "  from modualr_pytorch import data_setup, engine"
      ],
      "metadata": {
        "trusted": true,
        "execution": {
          "iopub.status.busy": "2025-01-30T17:01:39.950729Z",
          "iopub.execute_input": "2025-01-30T17:01:39.951209Z",
          "iopub.status.idle": "2025-01-30T17:01:45.267234Z",
          "shell.execute_reply.started": "2025-01-30T17:01:39.951178Z",
          "shell.execute_reply": "2025-01-30T17:01:45.266144Z"
        },
        "id": "9m1_uCSzcamc",
        "outputId": "bdc63aad-b81b-435c-ea67-4709b95e017c"
      },
      "outputs": [
        {
          "name": "stdout",
          "text": "[INFO] installing required scripts from github\nCloning into 'learn-pytorch'...\nremote: Enumerating objects: 119, done.\u001b[K\nremote: Counting objects: 100% (119/119), done.\u001b[K\nremote: Compressing objects: 100% (112/112), done.\u001b[K\nremote: Total 119 (delta 43), reused 5 (delta 1), pack-reused 0 (from 0)\u001b[K\nReceiving objects: 100% (119/119), 49.04 MiB | 22.48 MiB/s, done.\nResolving deltas: 100% (43/43), done.\n",
          "output_type": "stream"
        }
      ],
      "execution_count": null
    },
    {
      "cell_type": "markdown",
      "source": [
        "### Creating a EffNetB2 model extractor"
      ],
      "metadata": {
        "id": "a-FugQtBcamf"
      }
    },
    {
      "cell_type": "code",
      "source": [
        "weights = torchvision.models.EfficientNet_B2_Weights.DEFAULT\n",
        "effnetb2_transforms = weights.transforms()\n",
        "model = torchvision.models.efficientnet_b2(weights=weights)\n",
        "\n",
        "model.classifier"
      ],
      "metadata": {
        "trusted": true,
        "execution": {
          "iopub.status.busy": "2025-01-30T17:01:45.268249Z",
          "iopub.execute_input": "2025-01-30T17:01:45.268477Z",
          "iopub.status.idle": "2025-01-30T17:01:46.111478Z",
          "shell.execute_reply.started": "2025-01-30T17:01:45.268456Z",
          "shell.execute_reply": "2025-01-30T17:01:46.110624Z"
        },
        "id": "Rf_8g71Pcamg",
        "outputId": "4df0e010-0cfb-4a88-c829-3dc0c2af3ee3"
      },
      "outputs": [
        {
          "name": "stderr",
          "text": "Downloading: \"https://download.pytorch.org/models/efficientnet_b2_rwightman-c35c1473.pth\" to /root/.cache/torch/hub/checkpoints/efficientnet_b2_rwightman-c35c1473.pth\n100%|██████████| 35.2M/35.2M [00:00<00:00, 83.8MB/s]\n",
          "output_type": "stream"
        },
        {
          "execution_count": 3,
          "output_type": "execute_result",
          "data": {
            "text/plain": "Sequential(\n  (0): Dropout(p=0.3, inplace=True)\n  (1): Linear(in_features=1408, out_features=1000, bias=True)\n)"
          },
          "metadata": {}
        }
      ],
      "execution_count": null
    },
    {
      "cell_type": "code",
      "source": [
        "def create_effnetb2_model(num_classes: int,\n",
        "                          seed: int=42):\n",
        "\n",
        "  # get pretrained weights\n",
        "  weights = torchvision.models.EfficientNet_B2_Weights.DEFAULT\n",
        "\n",
        "  #effnetb2 transforms\n",
        "  effnetb2_transforms = weights.transforms()\n",
        "\n",
        "  # effnet model\n",
        "  model = torchvision.models.efficientnet_b2(weights=weights)\n",
        "\n",
        "  # freeze all the base layers\n",
        "  for parm in model.parameters():\n",
        "    parm.requires_grad = False\n",
        "\n",
        "  # change classifier head\n",
        "  model.classifier = nn.Sequential(\n",
        "      nn.Dropout(p=0.3, inplace=True),\n",
        "      nn.Linear(in_features=1408,\n",
        "                out_features= num_classes)\n",
        "  )\n",
        "\n",
        "  return model, effnetb2_transforms"
      ],
      "metadata": {
        "trusted": true,
        "execution": {
          "iopub.status.busy": "2025-01-30T17:01:46.112403Z",
          "iopub.execute_input": "2025-01-30T17:01:46.112741Z",
          "iopub.status.idle": "2025-01-30T17:01:46.117190Z",
          "shell.execute_reply.started": "2025-01-30T17:01:46.112707Z",
          "shell.execute_reply": "2025-01-30T17:01:46.116450Z"
        },
        "id": "2CSHQlbfcamg"
      },
      "outputs": [],
      "execution_count": null
    },
    {
      "cell_type": "code",
      "source": [
        "# model and transforms instance\n",
        "\n",
        "effnetb2_model, effnetb2_transforms = create_effnetb2_model(\n",
        "    num_classes=101,\n",
        "    seed=42\n",
        ")"
      ],
      "metadata": {
        "trusted": true,
        "execution": {
          "iopub.status.busy": "2025-01-30T17:01:46.117986Z",
          "iopub.execute_input": "2025-01-30T17:01:46.118229Z",
          "iopub.status.idle": "2025-01-30T17:01:46.348943Z",
          "shell.execute_reply.started": "2025-01-30T17:01:46.118209Z",
          "shell.execute_reply": "2025-01-30T17:01:46.348022Z"
        },
        "id": "DcI8J1zrcamh"
      },
      "outputs": [],
      "execution_count": null
    },
    {
      "cell_type": "code",
      "source": [
        "from torchinfo import summary\n",
        "\n",
        "summary(model=effnetb2_model,\n",
        "        input_size=(1,3,224,224),\n",
        "        col_names=['input_size','output_size','num_params','trainable'],\n",
        "        col_width=20,\n",
        "        row_settings=['var_names'])"
      ],
      "metadata": {
        "trusted": true,
        "execution": {
          "iopub.status.busy": "2025-01-30T17:01:46.351613Z",
          "iopub.execute_input": "2025-01-30T17:01:46.351851Z",
          "iopub.status.idle": "2025-01-30T17:01:47.435737Z",
          "shell.execute_reply.started": "2025-01-30T17:01:46.351830Z",
          "shell.execute_reply": "2025-01-30T17:01:47.434983Z"
        },
        "id": "BWW0W11Pcami",
        "outputId": "6bdc0897-d14d-4650-855b-66cfce547be7"
      },
      "outputs": [
        {
          "execution_count": 6,
          "output_type": "execute_result",
          "data": {
            "text/plain": "============================================================================================================================================\nLayer (type (var_name))                                      Input Shape          Output Shape         Param #              Trainable\n============================================================================================================================================\nEfficientNet (EfficientNet)                                  [1, 3, 224, 224]     [1, 101]             --                   Partial\n├─Sequential (features)                                      [1, 3, 224, 224]     [1, 1408, 7, 7]      --                   False\n│    └─Conv2dNormActivation (0)                              [1, 3, 224, 224]     [1, 32, 112, 112]    --                   False\n│    │    └─Conv2d (0)                                       [1, 3, 224, 224]     [1, 32, 112, 112]    (864)                False\n│    │    └─BatchNorm2d (1)                                  [1, 32, 112, 112]    [1, 32, 112, 112]    (64)                 False\n│    │    └─SiLU (2)                                         [1, 32, 112, 112]    [1, 32, 112, 112]    --                   --\n│    └─Sequential (1)                                        [1, 32, 112, 112]    [1, 16, 112, 112]    --                   False\n│    │    └─MBConv (0)                                       [1, 32, 112, 112]    [1, 16, 112, 112]    (1,448)              False\n│    │    └─MBConv (1)                                       [1, 16, 112, 112]    [1, 16, 112, 112]    (612)                False\n│    └─Sequential (2)                                        [1, 16, 112, 112]    [1, 24, 56, 56]      --                   False\n│    │    └─MBConv (0)                                       [1, 16, 112, 112]    [1, 24, 56, 56]      (6,004)              False\n│    │    └─MBConv (1)                                       [1, 24, 56, 56]      [1, 24, 56, 56]      (10,710)             False\n│    │    └─MBConv (2)                                       [1, 24, 56, 56]      [1, 24, 56, 56]      (10,710)             False\n│    └─Sequential (3)                                        [1, 24, 56, 56]      [1, 48, 28, 28]      --                   False\n│    │    └─MBConv (0)                                       [1, 24, 56, 56]      [1, 48, 28, 28]      (16,518)             False\n│    │    └─MBConv (1)                                       [1, 48, 28, 28]      [1, 48, 28, 28]      (43,308)             False\n│    │    └─MBConv (2)                                       [1, 48, 28, 28]      [1, 48, 28, 28]      (43,308)             False\n│    └─Sequential (4)                                        [1, 48, 28, 28]      [1, 88, 14, 14]      --                   False\n│    │    └─MBConv (0)                                       [1, 48, 28, 28]      [1, 88, 14, 14]      (50,300)             False\n│    │    └─MBConv (1)                                       [1, 88, 14, 14]      [1, 88, 14, 14]      (123,750)            False\n│    │    └─MBConv (2)                                       [1, 88, 14, 14]      [1, 88, 14, 14]      (123,750)            False\n│    │    └─MBConv (3)                                       [1, 88, 14, 14]      [1, 88, 14, 14]      (123,750)            False\n│    └─Sequential (5)                                        [1, 88, 14, 14]      [1, 120, 14, 14]     --                   False\n│    │    └─MBConv (0)                                       [1, 88, 14, 14]      [1, 120, 14, 14]     (149,158)            False\n│    │    └─MBConv (1)                                       [1, 120, 14, 14]     [1, 120, 14, 14]     (237,870)            False\n│    │    └─MBConv (2)                                       [1, 120, 14, 14]     [1, 120, 14, 14]     (237,870)            False\n│    │    └─MBConv (3)                                       [1, 120, 14, 14]     [1, 120, 14, 14]     (237,870)            False\n│    └─Sequential (6)                                        [1, 120, 14, 14]     [1, 208, 7, 7]       --                   False\n│    │    └─MBConv (0)                                       [1, 120, 14, 14]     [1, 208, 7, 7]       (301,406)            False\n│    │    └─MBConv (1)                                       [1, 208, 7, 7]       [1, 208, 7, 7]       (686,868)            False\n│    │    └─MBConv (2)                                       [1, 208, 7, 7]       [1, 208, 7, 7]       (686,868)            False\n│    │    └─MBConv (3)                                       [1, 208, 7, 7]       [1, 208, 7, 7]       (686,868)            False\n│    │    └─MBConv (4)                                       [1, 208, 7, 7]       [1, 208, 7, 7]       (686,868)            False\n│    └─Sequential (7)                                        [1, 208, 7, 7]       [1, 352, 7, 7]       --                   False\n│    │    └─MBConv (0)                                       [1, 208, 7, 7]       [1, 352, 7, 7]       (846,900)            False\n│    │    └─MBConv (1)                                       [1, 352, 7, 7]       [1, 352, 7, 7]       (1,888,920)          False\n│    └─Conv2dNormActivation (8)                              [1, 352, 7, 7]       [1, 1408, 7, 7]      --                   False\n│    │    └─Conv2d (0)                                       [1, 352, 7, 7]       [1, 1408, 7, 7]      (495,616)            False\n│    │    └─BatchNorm2d (1)                                  [1, 1408, 7, 7]      [1, 1408, 7, 7]      (2,816)              False\n│    │    └─SiLU (2)                                         [1, 1408, 7, 7]      [1, 1408, 7, 7]      --                   --\n├─AdaptiveAvgPool2d (avgpool)                                [1, 1408, 7, 7]      [1, 1408, 1, 1]      --                   --\n├─Sequential (classifier)                                    [1, 1408]            [1, 101]             --                   True\n│    └─Dropout (0)                                           [1, 1408]            [1, 1408]            --                   --\n│    └─Linear (1)                                            [1, 1408]            [1, 101]             142,309              True\n============================================================================================================================================\nTotal params: 7,843,303\nTrainable params: 142,309\nNon-trainable params: 7,700,994\nTotal mult-adds (M): 657.78\n============================================================================================================================================\nInput size (MB): 0.60\nForward/backward pass size (MB): 156.80\nParams size (MB): 31.37\nEstimated Total Size (MB): 188.77\n============================================================================================================================================"
          },
          "metadata": {}
        }
      ],
      "execution_count": null
    },
    {
      "cell_type": "markdown",
      "source": [
        "### Apply `.TrivialAugmentWide()` data augmentation to training images"
      ],
      "metadata": {
        "id": "0PomDBUYcamj"
      }
    },
    {
      "cell_type": "code",
      "source": [
        "effnetb2_train_transforms = torchvision.transforms.Compose([\n",
        "    torchvision.transforms.TrivialAugmentWide(),\n",
        "    effnetb2_transforms\n",
        "])\n",
        "\n",
        "effnetb2_train_transforms"
      ],
      "metadata": {
        "trusted": true,
        "execution": {
          "iopub.status.busy": "2025-01-30T17:01:47.437012Z",
          "iopub.execute_input": "2025-01-30T17:01:47.437263Z",
          "iopub.status.idle": "2025-01-30T17:01:47.442420Z",
          "shell.execute_reply.started": "2025-01-30T17:01:47.437242Z",
          "shell.execute_reply": "2025-01-30T17:01:47.441601Z"
        },
        "id": "02FYJzzTcamk",
        "outputId": "8619e8b2-683b-4e7a-b5b1-527aecc36c4a"
      },
      "outputs": [
        {
          "execution_count": 7,
          "output_type": "execute_result",
          "data": {
            "text/plain": "Compose(\n    TrivialAugmentWide(num_magnitude_bins=31, interpolation=InterpolationMode.NEAREST, fill=None)\n    ImageClassification(\n    crop_size=[288]\n    resize_size=[288]\n    mean=[0.485, 0.456, 0.406]\n    std=[0.229, 0.224, 0.225]\n    interpolation=InterpolationMode.BICUBIC\n)\n)"
          },
          "metadata": {}
        }
      ],
      "execution_count": null
    },
    {
      "cell_type": "markdown",
      "source": [
        "### Downloading the complete data using `torchvision.datasets.Food101`"
      ],
      "metadata": {
        "id": "RWBks7Lvcaml"
      }
    },
    {
      "cell_type": "code",
      "source": [
        "from torchvision import datasets\n",
        "\n",
        "# create a data folder\n",
        "from pathlib import Path\n",
        "data_dir = Path('data')\n",
        "\n",
        "# get the complete data\n",
        "train_data = datasets.Food101(root=data_dir,\n",
        "                              split='train',\n",
        "                              transform= effnetb2_train_transforms,\n",
        "                              download=True)\n",
        "\n",
        "test_data=datasets.Food101(root=data_dir,\n",
        "                           split='test',\n",
        "                           transform = effnetb2_transforms,\n",
        "                           download=True)"
      ],
      "metadata": {
        "trusted": true,
        "execution": {
          "iopub.status.busy": "2025-01-30T17:01:47.443316Z",
          "iopub.execute_input": "2025-01-30T17:01:47.443576Z",
          "iopub.status.idle": "2025-01-30T17:06:03.197644Z",
          "shell.execute_reply.started": "2025-01-30T17:01:47.443545Z",
          "shell.execute_reply": "2025-01-30T17:06:03.196918Z"
        },
        "id": "DKifEnVxcamm",
        "outputId": "b8fdb053-feed-4a4e-e116-89ddc2c75281"
      },
      "outputs": [
        {
          "name": "stdout",
          "text": "Downloading https://data.vision.ee.ethz.ch/cvl/food-101.tar.gz to data/food-101.tar.gz\n",
          "output_type": "stream"
        },
        {
          "name": "stderr",
          "text": "100%|██████████| 5.00G/5.00G [03:12<00:00, 26.0MB/s] \n",
          "output_type": "stream"
        },
        {
          "name": "stdout",
          "text": "Extracting data/food-101.tar.gz to data\n",
          "output_type": "stream"
        }
      ],
      "execution_count": null
    },
    {
      "cell_type": "code",
      "source": [
        "# get class names\n",
        "food101_class_names = train_data.classes\n",
        "\n",
        "food101_class_names[:10]"
      ],
      "metadata": {
        "trusted": true,
        "execution": {
          "iopub.status.busy": "2025-01-30T17:06:03.198384Z",
          "iopub.execute_input": "2025-01-30T17:06:03.198666Z",
          "iopub.status.idle": "2025-01-30T17:06:03.204076Z",
          "shell.execute_reply.started": "2025-01-30T17:06:03.198633Z",
          "shell.execute_reply": "2025-01-30T17:06:03.203231Z"
        },
        "id": "f5ZKyqBUcamo",
        "outputId": "99016f4f-b503-4576-d00e-d364bb4de080"
      },
      "outputs": [
        {
          "execution_count": 9,
          "output_type": "execute_result",
          "data": {
            "text/plain": "['apple_pie',\n 'baby_back_ribs',\n 'baklava',\n 'beef_carpaccio',\n 'beef_tartare',\n 'beet_salad',\n 'beignets',\n 'bibimbap',\n 'bread_pudding',\n 'breakfast_burrito']"
          },
          "metadata": {}
        }
      ],
      "execution_count": null
    },
    {
      "cell_type": "markdown",
      "source": [
        "### Turn dataset into dataloader"
      ],
      "metadata": {
        "id": "dZ1Lt2Igcamp"
      }
    },
    {
      "cell_type": "code",
      "source": [
        "import os\n",
        "import torch\n",
        "\n",
        "BATCH_SIZE =32\n",
        "NUM_WORKERS = os.cpu_count()\n",
        "\n",
        "# training dataloader\n",
        "food101_train_dataloader = torch.utils.data.DataLoader(train_data,\n",
        "                                               batch_size=BATCH_SIZE,\n",
        "                                               shuffle=True,\n",
        "                                               num_workers = NUM_WORKERS)\n",
        "\n",
        "# test dataloader\n",
        "food101_test_dataloader = torch.utils.data.DataLoader(test_data,\n",
        "                                              batch_size = BATCH_SIZE,\n",
        "                                              shuffle = False,\n",
        "                                              num_workers=NUM_WORKERS)\n"
      ],
      "metadata": {
        "trusted": true,
        "execution": {
          "iopub.status.busy": "2025-01-30T17:06:03.204865Z",
          "iopub.execute_input": "2025-01-30T17:06:03.205066Z",
          "iopub.status.idle": "2025-01-30T17:06:03.216082Z",
          "shell.execute_reply.started": "2025-01-30T17:06:03.205048Z",
          "shell.execute_reply": "2025-01-30T17:06:03.215148Z"
        },
        "id": "txprBDlpcamq"
      },
      "outputs": [],
      "execution_count": null
    },
    {
      "cell_type": "code",
      "source": [
        "# device\n",
        "device = 'cuda' if torch.cuda.is_available() else 'cpu'\n",
        "device"
      ],
      "metadata": {
        "trusted": true,
        "execution": {
          "iopub.status.busy": "2025-01-30T17:06:03.216931Z",
          "iopub.execute_input": "2025-01-30T17:06:03.217234Z",
          "iopub.status.idle": "2025-01-30T17:06:03.227934Z",
          "shell.execute_reply.started": "2025-01-30T17:06:03.217206Z",
          "shell.execute_reply": "2025-01-30T17:06:03.227137Z"
        },
        "id": "hpRGiebccamr",
        "outputId": "91b6ba67-0799-4cb1-b4bc-4e69ddbc08f6"
      },
      "outputs": [
        {
          "execution_count": 11,
          "output_type": "execute_result",
          "data": {
            "text/plain": "'cuda'"
          },
          "metadata": {}
        }
      ],
      "execution_count": null
    },
    {
      "cell_type": "code",
      "source": [
        "from modualr_pytorch import engine\n",
        "\n",
        "# optimizer\n",
        "optimizer = torch.optim.Adam(params=effnetb2_model.parameters(),\n",
        "                             lr=0.001)\n",
        "\n",
        "# loss function\n",
        "loss_fn = torch.nn.CrossEntropyLoss(label_smoothing=0.1)\n",
        "# label smoothing for better generaliation and preventing overfitting\n",
        "\n",
        "# accuracy fn\n",
        "acc_fn= Accuracy(task= 'multiclass', num_classes=len(food101_class_names)).to(device)\n",
        "\n",
        "torch.manual_seed(42)\n",
        "torch.cuda.manual_seed(42)\n",
        "\n",
        "effnetb2_food101_results = engine.train(model= effnetb2_model,\n",
        "                                        train_dataloader= food101_train_dataloader,\n",
        "                                        test_dataloader=food101_test_dataloader,\n",
        "                                        optimizer = optimizer,\n",
        "                                        loss_fn= loss_fn,\n",
        "                                        accuracy_fn= acc_fn,\n",
        "                                        epochs=5,\n",
        "                                        device = device)"
      ],
      "metadata": {
        "trusted": true,
        "execution": {
          "iopub.status.busy": "2025-01-30T17:06:03.228827Z",
          "iopub.execute_input": "2025-01-30T17:06:03.229125Z",
          "iopub.status.idle": "2025-01-30T17:47:30.349971Z",
          "shell.execute_reply.started": "2025-01-30T17:06:03.229094Z",
          "shell.execute_reply": "2025-01-30T17:47:30.348838Z"
        },
        "colab": {
          "referenced_widgets": [
            "c28ec868c37f4b72ac137e1feb172577"
          ]
        },
        "id": "yb8xDpbRcams",
        "outputId": "d3736357-5708-4732-e8dd-6b06ea7a0a92"
      },
      "outputs": [
        {
          "output_type": "display_data",
          "data": {
            "text/plain": "  0%|          | 0/5 [00:00<?, ?it/s]",
            "application/vnd.jupyter.widget-view+json": {
              "version_major": 2,
              "version_minor": 0,
              "model_id": "c28ec868c37f4b72ac137e1feb172577"
            }
          },
          "metadata": {}
        },
        {
          "name": "stdout",
          "text": "Epoch: 0 | Train Loss: 2.9786 | Train acc: 0.4083 | Test Loss: 2.1807 | Test acc: 0.6112\nEpoch: 1 | Train Loss: 2.6478 | Train acc: 0.4819 | Test Loss: 2.1121 | Test acc: 0.6254\nEpoch: 2 | Train Loss: 2.6167 | Train acc: 0.4914 | Test Loss: 2.0740 | Test acc: 0.6391\nEpoch: 3 | Train Loss: 2.5926 | Train acc: 0.4986 | Test Loss: 2.0576 | Test acc: 0.6409\nEpoch: 4 | Train Loss: 2.5946 | Train acc: 0.4973 | Test Loss: 2.0573 | Test acc: 0.6447\n",
          "output_type": "stream"
        }
      ],
      "execution_count": null
    },
    {
      "cell_type": "markdown",
      "source": [
        "well it takes around 42 minutes to train the model !!"
      ],
      "metadata": {
        "id": "OoM9Hrphcamt"
      }
    },
    {
      "cell_type": "markdown",
      "source": [
        "### Loss Curves"
      ],
      "metadata": {
        "id": "IUgVk1ebcamt"
      }
    },
    {
      "cell_type": "code",
      "source": [
        "# a function called plot_loss_curve to plot one for our model\n",
        "\n",
        "from typing import Tuple, Dict, List\n",
        "def plot_loss_curve(results: Dict[str, List[float]]):\n",
        "  # loss values\n",
        "  train_loss = results['train_loss']\n",
        "  test_loss = results['test_loss']\n",
        "\n",
        "  # accuracy values\n",
        "  # move tensors to the CPU before converting to numpy\n",
        "  train_accuracy = [tensor.cpu() for tensor in results['train_acc']]\n",
        "  test_accuracy = [tensor.cpu() for tensor in results['test_acc']]\n",
        "\n",
        "  # epochs as list\n",
        "  epochs = range(len(results['train_loss']))\n",
        "\n",
        "  plt.figure(figsize=(15,7))\n",
        "\n",
        "  # plot loss\n",
        "  plt.subplot(1,2,1)\n",
        "  plt.plot(epochs, train_loss, label ='train_loss')\n",
        "  plt.plot(epochs, test_loss, label ='test_loss')\n",
        "  plt.xlabel(\"Epochs\")\n",
        "  plt.ylabel('Loss')\n",
        "  plt.title('Loss Curves')\n",
        "  plt.legend()\n",
        "\n",
        "  # plot accuracy\n",
        "  plt.subplot(1,2,2)\n",
        "  plt.plot(epochs, train_accuracy, label ='train_accuracy')\n",
        "  plt.plot(epochs, test_accuracy, label ='test_accuracy')\n",
        "  plt.xlabel(\"Epochs\")\n",
        "  plt.ylabel('Accuracy')\n",
        "  plt.title('Accuracy Curves')\n",
        "  plt.legend()"
      ],
      "metadata": {
        "trusted": true,
        "execution": {
          "iopub.status.busy": "2025-01-30T17:47:30.351100Z",
          "iopub.execute_input": "2025-01-30T17:47:30.351428Z",
          "iopub.status.idle": "2025-01-30T17:47:30.358229Z",
          "shell.execute_reply.started": "2025-01-30T17:47:30.351402Z",
          "shell.execute_reply": "2025-01-30T17:47:30.357379Z"
        },
        "id": "Mz6_Z_kpcamu"
      },
      "outputs": [],
      "execution_count": null
    },
    {
      "cell_type": "code",
      "source": [
        "plot_loss_curve(effnetb2_food101_results )"
      ],
      "metadata": {
        "trusted": true,
        "execution": {
          "iopub.status.busy": "2025-01-30T17:47:30.359063Z",
          "iopub.execute_input": "2025-01-30T17:47:30.359378Z",
          "iopub.status.idle": "2025-01-30T17:47:30.917670Z",
          "shell.execute_reply.started": "2025-01-30T17:47:30.359348Z",
          "shell.execute_reply": "2025-01-30T17:47:30.916609Z"
        },
        "id": "9B4Oo49ucamu",
        "outputId": "b6c91b9f-b434-4300-c470-414f156b106d"
      },
      "outputs": [
        {
          "output_type": "display_data",
          "data": {
            "text/plain": "<Figure size 1500x700 with 2 Axes>",
            "image/png": "[encoded data removed]"
          },
          "metadata": {}
        }
      ],
      "execution_count": null
    },
    {
      "cell_type": "markdown",
      "source": [
        "### saving our model"
      ],
      "metadata": {
        "id": "JaxoVyXBcamv"
      }
    },
    {
      "cell_type": "code",
      "source": [
        "from modualr_pytorch import utils\n",
        "\n",
        "utils.save_model(model=effnetb2_model,\n",
        "                 target_dir='models',\n",
        "                 model_name = 'effnetb2_food101_model.pth')"
      ],
      "metadata": {
        "trusted": true,
        "execution": {
          "iopub.status.busy": "2025-01-30T18:03:46.771244Z",
          "iopub.execute_input": "2025-01-30T18:03:46.771577Z",
          "iopub.status.idle": "2025-01-30T18:03:46.865720Z",
          "shell.execute_reply.started": "2025-01-30T18:03:46.771552Z",
          "shell.execute_reply": "2025-01-30T18:03:46.864942Z"
        },
        "id": "15_z88TRcamw",
        "outputId": "575796d5-36f1-4e96-a29d-25c963784355"
      },
      "outputs": [
        {
          "name": "stdout",
          "text": "Saving model to: models/effnetb2_food101_model.pth\n",
          "output_type": "stream"
        }
      ],
      "execution_count": null
    },
    {
      "cell_type": "markdown",
      "source": [
        "### loading our model back, just to check out"
      ],
      "metadata": {
        "id": "vLhoD4Y2camx"
      }
    },
    {
      "cell_type": "code",
      "source": [
        "# create model instance\n",
        "\n",
        "loaded_effnetb2_model, effnetb2_transforms = create_effnetb2_model(\n",
        "    num_classes = 101,\n",
        "    seed=42\n",
        ")\n",
        "\n",
        "# loading the saved model dict\n",
        "loaded_effnetb2_model.load_state_dict(torch.load(\"models/effnetb2_food101_model.pth\",weights_only=True))"
      ],
      "metadata": {
        "trusted": true,
        "execution": {
          "iopub.status.busy": "2025-01-30T18:03:50.872943Z",
          "iopub.execute_input": "2025-01-30T18:03:50.873270Z",
          "iopub.status.idle": "2025-01-30T18:03:51.290338Z",
          "shell.execute_reply.started": "2025-01-30T18:03:50.873234Z",
          "shell.execute_reply": "2025-01-30T18:03:51.289445Z"
        },
        "id": "zgSuF6Y1camy",
        "outputId": "521a6203-b6d3-4228-cd45-e76fb33f016c"
      },
      "outputs": [
        {
          "execution_count": 28,
          "output_type": "execute_result",
          "data": {
            "text/plain": "<All keys matched successfully>"
          },
          "metadata": {}
        }
      ],
      "execution_count": null
    },
    {
      "cell_type": "code",
      "source": [
        "# checking the model size\n",
        "\n",
        "from pathlib import Path\n",
        "\n",
        "effnetb2_food101_model_size = Path('models/effnetb2_food101_model.pth').stat().st_size // (1024*1024)\n",
        "print(f'EffNetB2 Model Size: {effnetb2_food101_model_size} MB')"
      ],
      "metadata": {
        "trusted": true,
        "execution": {
          "iopub.status.busy": "2025-01-30T18:03:53.517176Z",
          "iopub.execute_input": "2025-01-30T18:03:53.517533Z",
          "iopub.status.idle": "2025-01-30T18:03:53.522240Z",
          "shell.execute_reply.started": "2025-01-30T18:03:53.517503Z",
          "shell.execute_reply": "2025-01-30T18:03:53.521465Z"
        },
        "id": "spzc6ll_camz",
        "outputId": "db96a99e-262b-48f0-feb4-f072063256ff"
      },
      "outputs": [
        {
          "name": "stdout",
          "text": "EffNetB2 Model Size: 30 MB\n",
          "output_type": "stream"
        }
      ],
      "execution_count": null
    },
    {
      "cell_type": "code",
      "source": [
        "# number of parameters\n",
        "\n",
        "effnetb2_food101_params = sum(torch.numel(param) for param in effnetb2_model.parameters())\n",
        "print(f'Number of parameters in Food101 EffNetB2 model: {effnetb2_food101_params}')"
      ],
      "metadata": {
        "trusted": true,
        "execution": {
          "iopub.status.busy": "2025-01-30T18:03:55.439228Z",
          "iopub.execute_input": "2025-01-30T18:03:55.439514Z",
          "iopub.status.idle": "2025-01-30T18:03:55.445536Z",
          "shell.execute_reply.started": "2025-01-30T18:03:55.439494Z",
          "shell.execute_reply": "2025-01-30T18:03:55.444649Z"
        },
        "id": "j52xb3Gpcam0",
        "outputId": "78ecb4f7-6e39-406e-d9b2-be7d5a038619"
      },
      "outputs": [
        {
          "name": "stdout",
          "text": "Number of parameters in Food101 EffNetB2 model: 7843303\n",
          "output_type": "stream"
        }
      ],
      "execution_count": null
    },
    {
      "cell_type": "markdown",
      "source": [
        "### Turning Food101 into a deployable app\n",
        "on hf spaces\n",
        "\n",
        "our directory will look like\n",
        "```\n",
        "demos/\n",
        "└── food101/\n",
        "    ├── effnetb2_food101_model.pth\n",
        "    ├── app.py\n",
        "    ├── class_names.txt\n",
        "    ├── examples/\n",
        "    │   ├── example_1.jpg\n",
        "    │   ├── example_2.jpg\n",
        "    │   └── example_3.jpg\n",
        "    ├── model.py\n",
        "    └── requirements.txt\n",
        "```"
      ],
      "metadata": {
        "id": "lNR4Mckzcam1"
      }
    },
    {
      "cell_type": "markdown",
      "source": [
        "### Create a demo folder and example folder"
      ],
      "metadata": {
        "id": "83xW8ywUcam1"
      }
    },
    {
      "cell_type": "code",
      "source": [
        "import shutil\n",
        "from pathlib import Path\n",
        "\n",
        "food101_demo_path = Path('demo/food101_model/')\n",
        "\n",
        "# remove file if already exist\n",
        "if food101_demo_path.exists():\n",
        "    shutil.rmtree(food101_demo_path)\n",
        "\n",
        "\n",
        "# make dir otherwise\n",
        "food101_demo_path.mkdir(parents=True,\n",
        "                        exist_ok = True)\n",
        "\n",
        "# create examples directory\n",
        "(food101_demo_path/ 'examples').mkdir(parents=True,\n",
        "                                     exist_ok = True)"
      ],
      "metadata": {
        "trusted": true,
        "execution": {
          "iopub.status.busy": "2025-01-30T18:03:58.396946Z",
          "iopub.execute_input": "2025-01-30T18:03:58.397292Z",
          "iopub.status.idle": "2025-01-30T18:03:58.411881Z",
          "shell.execute_reply.started": "2025-01-30T18:03:58.397264Z",
          "shell.execute_reply": "2025-01-30T18:03:58.410940Z"
        },
        "id": "vRFfd_YTcam2"
      },
      "outputs": [],
      "execution_count": null
    },
    {
      "cell_type": "code",
      "source": [
        "# download\n",
        "!wget https://raw.githubusercontent.com/aashu-0/images/refs/heads/main/IMG_20230924_214608.jpg\n",
        "\n",
        "# move\n",
        "!mv IMG_20230924_214608.jpg demo/food101_model/examples/my-first-pizza.jpg\n",
        "\n",
        "# move trained model to food101 demo folder\n",
        "! mv models/effnetb2_food101_model.pth demo/food101_model\n"
      ],
      "metadata": {
        "trusted": true,
        "execution": {
          "iopub.status.busy": "2025-01-30T18:04:01.111234Z",
          "iopub.execute_input": "2025-01-30T18:04:01.111538Z",
          "iopub.status.idle": "2025-01-30T18:04:01.679584Z",
          "shell.execute_reply.started": "2025-01-30T18:04:01.111516Z",
          "shell.execute_reply": "2025-01-30T18:04:01.678342Z"
        },
        "id": "4sFiSbXHcam2",
        "outputId": "82c107c9-6ecd-42eb-837f-822fdbe6ca30"
      },
      "outputs": [
        {
          "name": "stdout",
          "text": "--2025-01-30 18:04:01--  https://raw.githubusercontent.com/aashu-0/images/refs/heads/main/IMG_20230924_214608.jpg\nResolving raw.githubusercontent.com (raw.githubusercontent.com)... 185.199.110.133, 185.199.109.133, 185.199.111.133, ...\nConnecting to raw.githubusercontent.com (raw.githubusercontent.com)|185.199.110.133|:443... connected.\nHTTP request sent, awaiting response... 200 OK\nLength: 3940014 (3.8M) [image/jpeg]\nSaving to: ‘IMG_20230924_214608.jpg’\n\nIMG_20230924_214608 100%[===================>]   3.76M  --.-KB/s    in 0.07s   \n\n2025-01-30 18:04:01 (53.5 MB/s) - ‘IMG_20230924_214608.jpg’ saved [3940014/3940014]\n\n",
          "output_type": "stream"
        }
      ],
      "execution_count": null
    },
    {
      "cell_type": "markdown",
      "source": [
        "### Saving Food101 names to file `101_food_names.txt`"
      ],
      "metadata": {
        "id": "tI-GAdRJcam3"
      }
    },
    {
      "cell_type": "code",
      "source": [
        "food101_class_names[:10]"
      ],
      "metadata": {
        "trusted": true,
        "execution": {
          "iopub.status.busy": "2025-01-30T18:05:43.778681Z",
          "iopub.execute_input": "2025-01-30T18:05:43.779039Z",
          "iopub.status.idle": "2025-01-30T18:05:43.785015Z",
          "shell.execute_reply.started": "2025-01-30T18:05:43.779008Z",
          "shell.execute_reply": "2025-01-30T18:05:43.784311Z"
        },
        "id": "txG9NGk_cam3",
        "outputId": "3fc18169-59e3-4cb5-c21e-893e3dce7d8f"
      },
      "outputs": [
        {
          "execution_count": 33,
          "output_type": "execute_result",
          "data": {
            "text/plain": "['apple_pie',\n 'baby_back_ribs',\n 'baklava',\n 'beef_carpaccio',\n 'beef_tartare',\n 'beet_salad',\n 'beignets',\n 'bibimbap',\n 'bread_pudding',\n 'breakfast_burrito']"
          },
          "metadata": {}
        }
      ],
      "execution_count": null
    },
    {
      "cell_type": "code",
      "source": [
        "# create path for 101_food_names.txt\n",
        "\n",
        "food101_class_names_path = food101_demo_path/ '101_food_names.txt'\n",
        "\n",
        "# write food101 class names list to file\n",
        "with open(food101_class_names_path, 'w') as f:\n",
        "    print(f'[INFO] Saving Food11 class names to {food101_class_names_path}')\n",
        "    f.write(\"\\n\".join(food101_class_names)) # new line after each class"
      ],
      "metadata": {
        "trusted": true,
        "execution": {
          "iopub.status.busy": "2025-01-30T18:09:05.847894Z",
          "iopub.execute_input": "2025-01-30T18:09:05.848358Z",
          "iopub.status.idle": "2025-01-30T18:09:05.854526Z",
          "shell.execute_reply.started": "2025-01-30T18:09:05.848322Z",
          "shell.execute_reply": "2025-01-30T18:09:05.853586Z"
        },
        "id": "vuvqTXFAcam4",
        "outputId": "b96c0700-b6a8-44ff-9970-6e3572c92f6b"
      },
      "outputs": [
        {
          "name": "stdout",
          "text": "[INFO] Saving Food11 class names to demo/food101_model/101_food_names.txt\n",
          "output_type": "stream"
        }
      ],
      "execution_count": null
    },
    {
      "cell_type": "code",
      "source": [
        "# open and read each line and convert into a list\n",
        "with open(food101_class_names_path, 'r') as f:\n",
        "    food101_class_names_read = [food.strip( ) for food in f.readlines()]\n",
        "\n",
        "# view list\n",
        "# len(food101_class_names_read)\n",
        "food101_class_names[:5]"
      ],
      "metadata": {
        "trusted": true,
        "execution": {
          "iopub.status.busy": "2025-01-30T18:12:17.590583Z",
          "iopub.execute_input": "2025-01-30T18:12:17.590863Z",
          "iopub.status.idle": "2025-01-30T18:12:17.596841Z",
          "shell.execute_reply.started": "2025-01-30T18:12:17.590842Z",
          "shell.execute_reply": "2025-01-30T18:12:17.596008Z"
        },
        "id": "OUJfL9bFcam4",
        "outputId": "bfa4d004-812c-426b-c94f-c62f821cfad8"
      },
      "outputs": [
        {
          "execution_count": 39,
          "output_type": "execute_result",
          "data": {
            "text/plain": "['apple_pie', 'baby_back_ribs', 'baklava', 'beef_carpaccio', 'beef_tartare']"
          },
          "metadata": {}
        }
      ],
      "execution_count": null
    },
    {
      "cell_type": "markdown",
      "source": [
        "### Food101 model into `model.py`"
      ],
      "metadata": {
        "id": "35bMkzoYcam5"
      }
    },
    {
      "cell_type": "code",
      "source": [
        "%%writefile demo/food101_model/model.py\n",
        "\n",
        "import torch\n",
        "import torchvision\n",
        "\n",
        "from torch import nn\n",
        "\n",
        "ef create_effnetb2_model(num_classes: int,\n",
        "                          seed: int =42):\n",
        "\n",
        "  #weights, transforms and model instance\n",
        "  weights = torchvision.models.EfficientNet_B2_Weights.DEFAULT\n",
        "  transforms = weights.transforms()\n",
        "\n",
        "  model = torchvision.models.efficientnet_b2(weights= weights)\n",
        "\n",
        "  # freeze all layers of base model\n",
        "  for param in model.parameters():\n",
        "    param.requires_grad = False  # i.e don't keep track of gradients\n",
        "\n",
        "    # change classifier head\n",
        "    torch.manual_seed(seed)\n",
        "    model.classifier = nn.Sequential(\n",
        "        nn.Dropout(p=0.3, inplace=True),\n",
        "        nn.Linear(in_features=1408, out_features= num_classes)\n",
        "    )\n",
        "\n",
        "    return model,transforms"
      ],
      "metadata": {
        "trusted": true,
        "execution": {
          "iopub.status.busy": "2025-01-30T18:15:19.478057Z",
          "iopub.execute_input": "2025-01-30T18:15:19.478423Z",
          "iopub.status.idle": "2025-01-30T18:15:19.484295Z",
          "shell.execute_reply.started": "2025-01-30T18:15:19.478395Z",
          "shell.execute_reply": "2025-01-30T18:15:19.483598Z"
        },
        "id": "BB_W8MEFcam5",
        "outputId": "78136338-232b-45d9-b3b6-251f79e82383"
      },
      "outputs": [
        {
          "name": "stdout",
          "text": "Writing demo/food101_model/model.py\n",
          "output_type": "stream"
        }
      ],
      "execution_count": null
    },
    {
      "cell_type": "markdown",
      "source": [
        "### food101 gradio app into `app.py`"
      ],
      "metadata": {
        "id": "ZyICc7D9cam6"
      }
    },
    {
      "cell_type": "code",
      "source": [
        "%%writefile demo/food101_model/app.py\n",
        "\n",
        "import gradio as gr\n",
        "import os\n",
        "import torch\n",
        "\n",
        "from model import create_effnetb2_model\n",
        "from timeit import default_timer as timer\n",
        "from typing import Tuple, Dict\n",
        "\n",
        "# class_names\n",
        "with open('101_food_names.txt','r') as f:\n",
        "    class_names = [food_names.strip( ) for food_name in f.readlines()]\n",
        "\n",
        "\n",
        "#create effnet model\n",
        "effnetb2, effnetb2_transforms = create_effnetb2_model(\n",
        "    num_classes = len(class_names),\n",
        "    seed=42\n",
        ")\n",
        "\n",
        "# load saved weights\n",
        "effnetb2.load_state_dict(torch.load(\n",
        "    f = 'effnetb2_food101_model.pth',\n",
        "    map_location=torch.device('cpu')\n",
        "    )\n",
        ")\n",
        "\n",
        "# predict\n",
        "\n",
        "def predict(img) -> Tuple[Dict, float]:\n",
        "\n",
        "  # start timer\n",
        "  start_timer = timer()\n",
        "\n",
        "  # perform transform aadd batch dim\n",
        "  img = effnetb2_transforms(img).unsqueeze(0)\n",
        "\n",
        "  # modle on eval mode\n",
        "  effnetb2.eval()\n",
        "  with torch.inference_mode():\n",
        "\n",
        "    # pass the img to the model and get pred prob\n",
        "    pred_probs = torch.softmax(effnetb2(img), dim=1)\n",
        "\n",
        "  pred_labels_and_probs = {class_names[i]: float(pred_probs[0][i]) for i in range(len(class_names))}\n",
        "\n",
        "  # pred time\n",
        "  pred_time = round(timer() - start_timer, 5)\n",
        "\n",
        "  # return pred dict and pred time\n",
        "  return pred_labels_and_probs, pred_time\n",
        "\n",
        "# gradio app\n",
        "\n",
        "title = \"Food101 🍕🍪 \"\n",
        "description = \"A computer vision model based on EffNetB2 model to clasify images of food into 101 classes. \\n [Food101 Dataset](https://data.vision.ee.ethz.ch/cvl/datasets_extra/food-101/)\"\n",
        "article = \"Made with ❤️ [github](https://github.com/aashu-0)\"\n",
        "\n",
        "# create examples list\n",
        "example_list = [['examples/' +example] for example in os.listdir('examples')]\n",
        "\n",
        "# gradio demo\n",
        "demo = gr.Interface(fn= predict,\n",
        "                    inputs = gr.Image(type= 'pil'),\n",
        "                    outputs= [gr.Label(num_top_classes=5, label='Predictions'),\n",
        "                              gr.Number(label=\"Predictions time(in seconds)\")],\n",
        "                    examples=example_list,\n",
        "                    title=title,\n",
        "                    description=description,\n",
        "                    article=article\n",
        "                    )\n",
        "\n",
        "# launch\n",
        "demo.launch()\n"
      ],
      "metadata": {
        "trusted": true,
        "execution": {
          "iopub.status.busy": "2025-01-30T18:23:34.831351Z",
          "iopub.execute_input": "2025-01-30T18:23:34.831695Z",
          "iopub.status.idle": "2025-01-30T18:23:34.837445Z",
          "shell.execute_reply.started": "2025-01-30T18:23:34.831673Z",
          "shell.execute_reply": "2025-01-30T18:23:34.836761Z"
        },
        "id": "8NHbTQJRcanK",
        "outputId": "a89e11bb-dbd4-45d7-d123-39a2548e2b17"
      },
      "outputs": [
        {
          "name": "stdout",
          "text": "Writing demo/food101_model/app.py\n",
          "output_type": "stream"
        }
      ],
      "execution_count": null
    },
    {
      "cell_type": "code",
      "source": [
        "torch.__version__"
      ],
      "metadata": {
        "trusted": true,
        "execution": {
          "iopub.status.busy": "2025-01-30T18:25:26.053826Z",
          "iopub.execute_input": "2025-01-30T18:25:26.054145Z",
          "iopub.status.idle": "2025-01-30T18:25:26.059510Z",
          "shell.execute_reply.started": "2025-01-30T18:25:26.054121Z",
          "shell.execute_reply": "2025-01-30T18:25:26.058710Z"
        },
        "id": "R1ZEN5wdcanL",
        "outputId": "cf41d7bf-521f-4f75-f8bd-5e37d30eee7e"
      },
      "outputs": [
        {
          "execution_count": 42,
          "output_type": "execute_result",
          "data": {
            "text/plain": "'2.5.1+cu121'"
          },
          "metadata": {}
        }
      ],
      "execution_count": null
    },
    {
      "cell_type": "code",
      "source": [
        "torchvision.__version__"
      ],
      "metadata": {
        "trusted": true,
        "execution": {
          "iopub.status.busy": "2025-01-30T18:25:49.502254Z",
          "iopub.execute_input": "2025-01-30T18:25:49.502576Z",
          "iopub.status.idle": "2025-01-30T18:25:49.507693Z",
          "shell.execute_reply.started": "2025-01-30T18:25:49.502548Z",
          "shell.execute_reply": "2025-01-30T18:25:49.506791Z"
        },
        "id": "Zrk0QYIqcanM",
        "outputId": "5d585f5b-1917-4a24-f580-47c89fa26f88"
      },
      "outputs": [
        {
          "execution_count": 44,
          "output_type": "execute_result",
          "data": {
            "text/plain": "'0.20.1+cu121'"
          },
          "metadata": {}
        }
      ],
      "execution_count": null
    },
    {
      "cell_type": "code",
      "source": [
        "gr.__version__"
      ],
      "metadata": {
        "trusted": true,
        "execution": {
          "iopub.status.busy": "2025-01-30T18:27:17.206818Z",
          "iopub.execute_input": "2025-01-30T18:27:17.207422Z",
          "iopub.status.idle": "2025-01-30T18:27:17.212492Z",
          "shell.execute_reply.started": "2025-01-30T18:27:17.207394Z",
          "shell.execute_reply": "2025-01-30T18:27:17.211825Z"
        },
        "id": "q2OvakRRcanN",
        "outputId": "813f73ca-5052-40d8-d0a8-ba38ebe54d2d"
      },
      "outputs": [
        {
          "execution_count": 52,
          "output_type": "execute_result",
          "data": {
            "text/plain": "'5.13.2'"
          },
          "metadata": {}
        }
      ],
      "execution_count": null
    },
    {
      "cell_type": "code",
      "source": [
        "%%writefile demo/food101_model/requirements.txt\n",
        "torch==2.5.1+cu121\n",
        "torchvision==0.20.1+cu121\n",
        "gradio==5.13.2"
      ],
      "metadata": {
        "trusted": true,
        "execution": {
          "iopub.status.busy": "2025-01-30T18:28:33.851359Z",
          "iopub.execute_input": "2025-01-30T18:28:33.851665Z",
          "iopub.status.idle": "2025-01-30T18:28:33.856589Z",
          "shell.execute_reply.started": "2025-01-30T18:28:33.851642Z",
          "shell.execute_reply": "2025-01-30T18:28:33.855823Z"
        },
        "id": "RpP1QsxhcanN",
        "outputId": "24973196-2f4c-465f-9667-91864d9fa230"
      },
      "outputs": [
        {
          "name": "stdout",
          "text": "Writing demo/food101_model/requirements.txt\n",
          "output_type": "stream"
        }
      ],
      "execution_count": null
    },
    {
      "cell_type": "code",
      "source": [
        "# Zip foodvision_big folder but exclude certain files\n",
        "!cd demo/food101_model && zip -r ../food101_model.zip * -x \"*.pyc\" \"*.ipynb\" \"*__pycache__*\" \"*ipynb_checkpoints*\"\n",
        "\n",
        "# download manually"
      ],
      "metadata": {
        "trusted": true,
        "execution": {
          "iopub.status.busy": "2025-01-30T18:41:04.601554Z",
          "iopub.execute_input": "2025-01-30T18:41:04.601949Z",
          "iopub.status.idle": "2025-01-30T18:41:06.573189Z",
          "shell.execute_reply.started": "2025-01-30T18:41:04.601915Z",
          "shell.execute_reply": "2025-01-30T18:41:06.572058Z"
        },
        "id": "Zk7__xdycanN",
        "outputId": "23bdd06b-b154-4ae4-845a-ad4f9a9adb43"
      },
      "outputs": [
        {
          "name": "stdout",
          "text": "updating: 101_food_names.txt (deflated 48%)\nupdating: app.py (deflated 53%)\nupdating: effnetb2_food101_model.pth (deflated 8%)\nupdating: examples/ (stored 0%)\nupdating: examples/my-first-pizza.jpg (deflated 0%)\nupdating: model.py (deflated 47%)\nupdating: requirements.txt (deflated 15%)\n",
          "output_type": "stream"
        }
      ],
      "execution_count": null
    },
    {
      "cell_type": "code",
      "source": [],
      "metadata": {
        "trusted": true,
        "id": "4Nu4IVA8canO"
      },
      "outputs": [],
      "execution_count": null
    }
  ]
}