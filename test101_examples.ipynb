{
  "nbformat": 4,
  "nbformat_minor": 0,
  "metadata": {
    "colab": {
      "provenance": [],
      "authorship_tag": "ABX9TyPMv+kS6gr31N5vsoAiPmeG",
      "include_colab_link": true
    },
    "kernelspec": {
      "name": "python3",
      "display_name": "Python 3"
    },
    "language_info": {
      "name": "python"
    }
  },
  "cells": [
    {
      "cell_type": "markdown",
      "metadata": {
        "id": "view-in-github",
        "colab_type": "text"
      },
      "source": [
        "<a href=\"https://colab.research.google.com/github/aashu-0/Food101/blob/main/test101_examples.ipynb\" target=\"_parent\"><img src=\"https://colab.research.google.com/assets/colab-badge.svg\" alt=\"Open In Colab\"/></a>"
      ]
    },
    {
      "cell_type": "code",
      "execution_count": 12,
      "metadata": {
        "id": "N7_4n4HYSkX5"
      },
      "outputs": [],
      "source": [
        "import torch\n",
        "import torchvision\n",
        "import matplotlib.pyplot as plt\n",
        "\n",
        "from torch import nn\n",
        "from torchvision import transforms\n",
        "\n",
        "\n",
        "# installing torchmetrics and torchinfo\n",
        "try:\n",
        "  from torchmetrics import Accuracy\n",
        "  from torchinfo import summary\n",
        "except:\n",
        "  print(f'[INFO] Installing torchmetrics and torchinfo')\n",
        "  !pip install torchmetrics\n",
        "  !pip install torchinfo\n"
      ]
    },
    {
      "cell_type": "code",
      "source": [
        "weights = torchvision.models.EfficientNet_B2_Weights.DEFAULT\n",
        "effnetb2_transforms = weights.transforms()\n",
        "model = torchvision.models.efficientnet_b2(weights=weights)\n",
        "\n",
        "model.classifier"
      ],
      "metadata": {
        "colab": {
          "base_uri": "https://localhost:8080/"
        },
        "id": "8rvqMXhgUa-s",
        "outputId": "66e15214-5f41-4ed8-d429-10898ac61f9f"
      },
      "execution_count": 13,
      "outputs": [
        {
          "output_type": "execute_result",
          "data": {
            "text/plain": [
              "Sequential(\n",
              "  (0): Dropout(p=0.3, inplace=True)\n",
              "  (1): Linear(in_features=1408, out_features=1000, bias=True)\n",
              ")"
            ]
          },
          "metadata": {},
          "execution_count": 13
        }
      ]
    },
    {
      "cell_type": "code",
      "source": [
        "def create_effnetb2_model(num_classes: int,\n",
        "                          seed: int=42):\n",
        "\n",
        "  # get pretrained weights\n",
        "  weights = torchvision.models.EfficientNet_B2_Weights.DEFAULT\n",
        "\n",
        "  #effnetb2 transforms\n",
        "  effnetb2_transforms = weights.transforms()\n",
        "\n",
        "  # effnet model\n",
        "  model = torchvision.models.efficientnet_b2(weights=weights)\n",
        "\n",
        "  # freeze all the base layers\n",
        "  for parm in model.parameters():\n",
        "    parm.requires_grad = False\n",
        "\n",
        "  # change classifier head\n",
        "  model.classifier = nn.Sequential(\n",
        "      nn.Dropout(p=0.3, inplace=True),\n",
        "      nn.Linear(in_features=1408,\n",
        "                out_features= num_classes)\n",
        "  )\n",
        "\n",
        "  return model, effnetb2_transforms"
      ],
      "metadata": {
        "id": "0ZtSzkAlUhcC"
      },
      "execution_count": 14,
      "outputs": []
    },
    {
      "cell_type": "code",
      "source": [
        "# model and transforms instance\n",
        "\n",
        "effnetb2_model, effnetb2_transforms = create_effnetb2_model(\n",
        "    num_classes=101,\n",
        "    seed=42\n",
        ")"
      ],
      "metadata": {
        "id": "hBgzn4S1Uh70"
      },
      "execution_count": 15,
      "outputs": []
    },
    {
      "cell_type": "code",
      "source": [
        "from torchvision import datasets\n",
        "\n",
        "# create a data folder\n",
        "from pathlib import Path\n",
        "data_dir = Path('data')\n",
        "\n",
        "# download food101 test data\n",
        "test_data=datasets.Food101(root=data_dir,\n",
        "                           split='test',\n",
        "                           transform = effnetb2_transforms,\n",
        "                           download=True)\n",
        "len(test_data)"
      ],
      "metadata": {
        "colab": {
          "base_uri": "https://localhost:8080/"
        },
        "id": "kXOmK3BJUkV_",
        "outputId": "63fa879d-c382-4967-d588-52c875ad9e16"
      },
      "execution_count": 16,
      "outputs": [
        {
          "output_type": "execute_result",
          "data": {
            "text/plain": [
              "25250"
            ]
          },
          "metadata": {},
          "execution_count": 16
        }
      ]
    },
    {
      "cell_type": "code",
      "source": [
        "import os\n",
        "import random\n",
        "import shutil\n",
        "\n",
        "# paths\n",
        "base_dir = \"data/food-101/images\"\n",
        "examples_dir = \"data/food-101/examples\"\n",
        "\n",
        "\n",
        "os.makedirs(examples_dir, exist_ok=True)\n",
        "\n",
        "# iterate through each food\n",
        "for food_class in os.listdir(base_dir):\n",
        "  class_path = os.path.join(base_dir, food_class)\n",
        "\n",
        "  if os.path.isdir(class_path):\n",
        "    images = os.listdir(class_path)\n",
        "\n",
        "    if images:\n",
        "      random_image = random.choice(images)\n",
        "      src_path = os.path.join(class_path, random_image)\n",
        "      dest_path = os.path.join(examples_dir, f\"{food_class}.jpg\")\n",
        "\n",
        "      shutil.copy(src_path, dest_path)\n",
        "\n",
        "print(f\"Successfully copied 1 image from each category to {examples_dir}\")"
      ],
      "metadata": {
        "id": "Z55j5QnSVf0-",
        "outputId": "5df2fb6f-a15e-4c97-cff5-3726bfd850a4",
        "colab": {
          "base_uri": "https://localhost:8080/"
        }
      },
      "execution_count": 17,
      "outputs": [
        {
          "output_type": "stream",
          "name": "stdout",
          "text": [
            "Successfully copied 1 image from each category to data/food-101/examples\n"
          ]
        }
      ]
    },
    {
      "cell_type": "code",
      "source": [
        "import os\n",
        "import shutil\n",
        "from zipfile import ZipFile\n",
        "\n",
        "#paths\n",
        "examples_dir = \"data/food-101/examples\"\n",
        "zip_path = \"data/food-101/examples.zip\"\n",
        "\n",
        "# remove any exists if exists\n",
        "if os.path.exists(zip_path):\n",
        "  os.remove(zip_path)\n",
        "\n",
        "\n",
        "shutil.make_archive(zip_path.replace(\".zip\", \"\"), 'zip', examples_dir)\n",
        "\n",
        "# download\n",
        "try:\n",
        "  from google.colab import files\n",
        "  files.download(zip_path)\n",
        "except:\n",
        "  # if not in colab\n",
        "  print(f\"Zip file created: {zip_path}. Please download manually.\")"
      ],
      "metadata": {
        "id": "xQL1mPg9YNxz",
        "colab": {
          "base_uri": "https://localhost:8080/",
          "height": 17
        },
        "outputId": "62eb8e83-0af9-4831-adbe-5a4c2ae25fbf"
      },
      "execution_count": 18,
      "outputs": [
        {
          "output_type": "display_data",
          "data": {
            "text/plain": [
              "<IPython.core.display.Javascript object>"
            ],
            "application/javascript": [
              "\n",
              "    async function download(id, filename, size) {\n",
              "      if (!google.colab.kernel.accessAllowed) {\n",
              "        return;\n",
              "      }\n",
              "      const div = document.createElement('div');\n",
              "      const label = document.createElement('label');\n",
              "      label.textContent = `Downloading \"${filename}\": `;\n",
              "      div.appendChild(label);\n",
              "      const progress = document.createElement('progress');\n",
              "      progress.max = size;\n",
              "      div.appendChild(progress);\n",
              "      document.body.appendChild(div);\n",
              "\n",
              "      const buffers = [];\n",
              "      let downloaded = 0;\n",
              "\n",
              "      const channel = await google.colab.kernel.comms.open(id);\n",
              "      // Send a message to notify the kernel that we're ready.\n",
              "      channel.send({})\n",
              "\n",
              "      for await (const message of channel.messages) {\n",
              "        // Send a message to notify the kernel that we're ready.\n",
              "        channel.send({})\n",
              "        if (message.buffers) {\n",
              "          for (const buffer of message.buffers) {\n",
              "            buffers.push(buffer);\n",
              "            downloaded += buffer.byteLength;\n",
              "            progress.value = downloaded;\n",
              "          }\n",
              "        }\n",
              "      }\n",
              "      const blob = new Blob(buffers, {type: 'application/binary'});\n",
              "      const a = document.createElement('a');\n",
              "      a.href = window.URL.createObjectURL(blob);\n",
              "      a.download = filename;\n",
              "      div.appendChild(a);\n",
              "      a.click();\n",
              "      div.remove();\n",
              "    }\n",
              "  "
            ]
          },
          "metadata": {}
        },
        {
          "output_type": "display_data",
          "data": {
            "text/plain": [
              "<IPython.core.display.Javascript object>"
            ],
            "application/javascript": [
              "download(\"download_a1e77ca2-abee-45a3-8f6f-ce3b81f939e7\", \"examples.zip\", 4923287)"
            ]
          },
          "metadata": {}
        }
      ]
    },
    {
      "cell_type": "code",
      "source": [],
      "metadata": {
        "id": "Yn38uQkBY8YX"
      },
      "execution_count": 18,
      "outputs": []
    }
  ]
}